{
 "cells": [
  {
   "cell_type": "markdown",
   "metadata": {},
   "source": [
    "From https://laszukdawid.com/2017/03/02/kuramoto-in-python/"
   ]
  },
  {
   "cell_type": "code",
   "execution_count": null,
   "metadata": {
    "collapsed": true
   },
   "outputs": [],
   "source": [
    "import numpy as np\n",
    "from scipy.integrate import ode"
   ]
  },
  {
   "cell_type": "code",
   "execution_count": null,
   "metadata": {
    "collapsed": true
   },
   "outputs": [],
   "source": [
    "t0, t1, dt = 0, 20, 0.01\n",
    "T = np.arange(t0, t1, dt)\n",
    "\n",
    "init_phase = np.array([0, 0, 0])\n",
    "W = np.array([.1, .9, .1])\n",
    " \n",
    "K = np.array([0, -0.5, 0.2])\n",
    "\n",
    "phase = np.empty((len(W), len(T)))\n",
    "\n",
    "dtype = np.float32"
   ]
  },
  {
   "cell_type": "markdown",
   "metadata": {},
   "source": [
    "A problem to integrate and the corresponding jacobian:"
   ]
  },
  {
   "cell_type": "code",
   "execution_count": null,
   "metadata": {
    "collapsed": true
   },
   "outputs": [],
   "source": [
    "def kuramoto_ODE(t, y, arg):\n",
    "    \"\"\"General Kuramoto ODE of m'th harmonic order.\n",
    "       Argument `arg` = (w, k), with\n",
    "        w -- iterable frequency\n",
    "        k -- 3D coupling matrix, unless 1st order\n",
    "        \"\"\"\n",
    "\n",
    "    w, k = arg\n",
    "    yt = y[:, None]\n",
    "    # dy = y_i - y_j\n",
    "    dy = y - yt\n",
    "    phase = w.astype(dtype)\n",
    "    # add noise\n",
    "    # phase += 0.0001*np.random.uniform(len(phase))\n",
    "    phase += np.sum(k*np.sin(dy), axis=1)\n",
    "\n",
    "    return phase\n"
   ]
  },
  {
   "cell_type": "raw",
   "metadata": {},
   "source": [
    "The integration:"
   ]
  },
  {
   "cell_type": "code",
   "execution_count": null,
   "metadata": {},
   "outputs": [],
   "source": [
    "kODE = ode(kuramoto_ODE)\n",
    "kODE.set_integrator(\"dopri5\")\n",
    "\n",
    "# Set parameters into model\n",
    "kODE.set_initial_value(init_phase, T[0])\n",
    "kODE.set_f_params((W, K))"
   ]
  },
  {
   "cell_type": "code",
   "execution_count": null,
   "metadata": {},
   "outputs": [],
   "source": [
    "phase = np.empty((len(W), len(T)))\n",
    "\n",
    "# Run ODE integrator\n",
    "for idx, _t in enumerate(T[1:]):\n",
    "    phase[:,idx] = kODE.y\n",
    "    kODE.integrate(_t)\n",
    "\n",
    "print _t\n",
    "print kODE.y\n",
    "phase[:,-1] = kODE.y"
   ]
  },
  {
   "cell_type": "code",
   "execution_count": null,
   "metadata": {},
   "outputs": [],
   "source": [
    "np.diff(phase[comp])/dt"
   ]
  },
  {
   "cell_type": "code",
   "execution_count": null,
   "metadata": {},
   "outputs": [],
   "source": [
    "import matplotlib.pyplot as plt\n",
    "\n",
    "\n",
    "odeT = T[:-1]\n",
    "\n",
    "##########################################\n",
    "# Plot the phases\n",
    "\n",
    "\n",
    "for comp in range(len(W)):\n",
    "    plt.subplot(len(W),1,comp+1)\n",
    "    plt.plot(odeT, np.diff(phase[comp])/dt,'r')\n",
    "    plt.ylabel('$\\dot\\phi_%i(t)$'%(comp+1))\n",
    "\n",
    "    plt.suptitle(\"Instantaneous frequencies\")\n",
    "\n",
    "# Display plot\n",
    "plt.show()"
   ]
  }
 ],
 "metadata": {
  "kernelspec": {
   "display_name": "Python [Root]",
   "language": "python",
   "name": "Python [Root]"
  },
  "language_info": {
   "codemirror_mode": {
    "name": "ipython",
    "version": 2
   },
   "file_extension": ".py",
   "mimetype": "text/x-python",
   "name": "python",
   "nbconvert_exporter": "python",
   "pygments_lexer": "ipython2",
   "version": "2.7.12"
  }
 },
 "nbformat": 4,
 "nbformat_minor": 2
}
