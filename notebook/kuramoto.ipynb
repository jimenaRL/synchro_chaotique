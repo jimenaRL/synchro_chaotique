{
 "cells": [
  {
   "cell_type": "markdown",
   "metadata": {},
   "source": [
    "### Mathematical model"
   ]
  },
  {
   "cell_type": "markdown",
   "metadata": {},
   "source": [
    "We have a finite number of oscillators with natural frequency $\\omega_i$ and a phase angle $\\phi_i$.\n",
    "\n",
    "The coupling the evolution (ODE) is now given by\n",
    "\n",
    "\\begin{equation}\n",
    "     \\dot \\phi_i = \\omega_i + \\sum_{j\\neq i} k_{ij} \\sin(\\phi_i-\\phi_j-\\alpha) + \\eta_i\n",
    "\\end{equation}\n",
    "\n",
    "where the $k_{ij}$ are the coupling constants, $\\alpha$ is the phase delay and $\\eta_i$ is standard white noise.\n",
    "\n",
    "We take here $\\alpha=0$, $k_{ij}=k$, $\\omega_i=\\omega$ and no noise: \n",
    "\n",
    "\\begin{equation}\n",
    "     \\dot \\phi_i = \\omega +  k \\sum_{j\\neq i}\\sin(\\phi_i-\\phi_j)\n",
    "\\end{equation}"
   ]
  },
  {
   "cell_type": "markdown",
   "metadata": {},
   "source": [
    "### Visualizations"
   ]
  },
  {
   "cell_type": "markdown",
   "metadata": {},
   "source": [
    "(1) By considering $e^{i\\phi_i}$ we can visualise the evolution on the unit circle.\n",
    "\n",
    "(2) The interaction is given through the so-called *order parameter*\n",
    "\n",
    "\\begin{equation}\n",
    "    r = \\sum_i e^{i\\phi_i} \n",
    "\\end{equation}\n",
    "\n",
    "which is also used to measure the degree of synchronisation. This is is just the mean of all the oscillators."
   ]
  },
  {
   "cell_type": "markdown",
   "metadata": {},
   "source": [
    "### Numerical solutions"
   ]
  },
  {
   "cell_type": "markdown",
   "metadata": {},
   "source": [
    "**[Runge-Kutta]**\n",
    "\n",
    "Following https://laszukdawid.com/2017/03/02/kuramoto-in-python/, we use scipy integration ODE, with 'dopri5' (explicit runge-kutta method of order (4)5.\n",
    "\n",
    "https://docs.scipy.org/doc/scipy/reference/generated/scipy.integrate.ode.html\n",
    "\n",
    "Hairer, Norsett, Wanner_Solving Ordinary Differential Equations.\n",
    "\n",
    "\n",
    "**[explicit Euler]**\n",
    "\n",
    "From https://hdietert.github.io/static/kuramoto-animation/kuramoto.html, a simple forward Euler scheme (explicit) should be enough to numerical solve the ODE. If\n",
    "\n",
    "\\begin{eqnarray}\n",
    "        \\dot y(t) = f(t, y(t)) \\quad \\text{and} \\quad y(t_0) = y_0 \\\\\n",
    "\\end{eqnarray}\n",
    "\n",
    "then  by setting $t_{n+1} = h + t_n $ we have\n",
    "\n",
    "\\begin{eqnarray}\n",
    "        y_{n+1} = y_{n} + h f(t_n, y_n).\n",
    "\\end{eqnarray}\n",
    "\n",
    "\n"
   ]
  },
  {
   "cell_type": "markdown",
   "metadata": {},
   "source": [
    "#### set visualizations"
   ]
  },
  {
   "cell_type": "code",
   "execution_count": null,
   "metadata": {
    "collapsed": true
   },
   "outputs": [],
   "source": [
    "import matplotlib.pyplot as plt\n",
    "\n",
    "def viz_kuramoto(phase, dt):\n",
    "\n",
    "    dot_phase = np.diff(phase)/dt\n",
    "    r = np.exp(1j*phase).sum(axis=0)\n",
    "    \n",
    "    fig, axes = plt.subplots(nrows=2*len(W)+2, ncols=1, figsize=(18, 18))\n",
    "\n",
    "    for comp in range(len(W)):\n",
    "        axes[comp].plot(T, phase[comp],'b-')\n",
    "        axes[comp].set_title('$\\phi_%i(t)$'%(comp+1))\n",
    "        axes[comp].set_ylim(phase.min(), phase.max())\n",
    "\n",
    "    for comp in range(len(W)):\n",
    "        axes[comp+len(W)].plot(T[:-1], dot_phase[comp],'r-')\n",
    "        axes[comp+len(W)].set_title('$\\dot\\phi_%i(t)$'%(comp+1))\n",
    "        axes[comp+len(W)].set_ylim(dot_phase.min(), dot_phase.max())\n",
    "\n",
    "    axes[2*len(W)].set_title('Order parameter r')\n",
    "    axes[2*len(W)].scatter(r.real, r.imag, c='y')\n",
    "    axes[2*len(W)].set_aspect('equal', 'box')\n",
    "\n",
    "    axes[2*len(W)+1].plot(T, r.real,'g-', label='Re[r_(t)]')\n",
    "    axes[2*len(W)+1].plot(T, r.imag,'c-', label='Im[r_(t)]')\n",
    "    axes[2*len(W)+1].set_title('Order parameter r')\n",
    "\n",
    "    plt.legend()\n",
    "    plt.tight_layout()\n",
    "    plt.show()"
   ]
  },
  {
   "cell_type": "markdown",
   "metadata": {},
   "source": [
    "#### define initial values and parameters"
   ]
  },
  {
   "cell_type": "code",
   "execution_count": null,
   "metadata": {},
   "outputs": [],
   "source": [
    "import numpy as np\n",
    "\n",
    "dtype = np.float32\n",
    "\n",
    "t0, t1, dt = 0, 20, 0.1\n",
    "T = np.arange(t0, t1, dt)\n",
    "\n",
    "seed = 666\n",
    "rnd = np.random.RandomState(seed)\n",
    "\n",
    "init_phase = 2*np.pi*rnd.random_sample(size=5)\n",
    "W = 1*np.ones(len(init_phase)) \n",
    "K = 10/len(init_phase) \n",
    "\n",
    "print(init_phase)"
   ]
  },
  {
   "cell_type": "markdown",
   "metadata": {},
   "source": [
    "## [Runge-Kutta]"
   ]
  },
  {
   "cell_type": "markdown",
   "metadata": {},
   "source": [
    "#### define problem to integrate (right hand size of ODE)"
   ]
  },
  {
   "cell_type": "code",
   "execution_count": null,
   "metadata": {
    "collapsed": true
   },
   "outputs": [],
   "source": [
    "def kuramoto_ODE(t, y, arg):\n",
    "    \"\"\"General Kuramoto ODE of m'th harmonic order.\n",
    "       Argument `arg` = (w, k), with\n",
    "        w -- iterable frequency\n",
    "        k -- 3D coupling matrix, unless 1st order\n",
    "        \"\"\"\n",
    "    w, k = arg\n",
    "    yt = y[:, None]\n",
    "    dy = y - yt\n",
    "    phase = w.astype(dtype)\n",
    "    # add noise\n",
    "    # phase += 0.0001*np.random.uniform(len(phase))\n",
    "    phase += np.sum(k*np.sin(dy), axis=1)\n",
    "    return phase"
   ]
  },
  {
   "cell_type": "markdown",
   "metadata": {},
   "source": [
    "#### define scipy integrator"
   ]
  },
  {
   "cell_type": "code",
   "execution_count": null,
   "metadata": {},
   "outputs": [],
   "source": [
    "from scipy.integrate import ode\n",
    "\n",
    "# Set ODE integrator (explicit runge-kutta method of order (4)5)\n",
    "kODE = ode(kuramoto_ODE)\n",
    "kODE.set_integrator(\"dopri5\")\n",
    "\n",
    "# Set parameters into model\n",
    "kODE.set_initial_value(init_phase, T[0])\n",
    "kODE.set_f_params((W, K))\n",
    "\n"
   ]
  },
  {
   "cell_type": "markdown",
   "metadata": {},
   "source": [
    "#### do the integration"
   ]
  },
  {
   "cell_type": "code",
   "execution_count": null,
   "metadata": {},
   "outputs": [],
   "source": [
    "# Run ODE integrator\n",
    "y = np.empty((len(W), len(T)))\n",
    "for idx, _t in enumerate(T[1:]):\n",
    "    y[:,idx] = kODE.y\n",
    "    kODE.integrate(_t)\n",
    "y[:,-1] = kODE.y\n",
    "\n",
    "viz_kuramoto(y, dt)"
   ]
  },
  {
   "cell_type": "markdown",
   "metadata": {},
   "source": [
    "## [explicit Euler]"
   ]
  },
  {
   "cell_type": "code",
   "execution_count": null,
   "metadata": {},
   "outputs": [],
   "source": [
    "def f(y):\n",
    "    yt = y[:, None]\n",
    "    dy = y - yt\n",
    "    out = W.astype(dtype)\n",
    "    # add noise\n",
    "    # phase += 0.0001*np.random.uniform(len(phase))\n",
    "    out += np.sum(K*np.sin(dy), axis=1)\n",
    "    return out\n",
    "\n",
    "\n",
    "y = np.empty((len(W), len(T)))\n",
    "y[:, 0] = init_phase\n",
    "for idx in range(1, len(T)):\n",
    "    y[:, idx] = y[:,idx-1] + dt*f(y[:,idx-1])\n",
    "\n",
    "viz_kuramoto(y, dt)"
   ]
  }
 ],
 "metadata": {
  "kernelspec": {
   "display_name": "Python [Root]",
   "language": "python",
   "name": "Python [Root]"
  },
  "language_info": {
   "codemirror_mode": {
    "name": "ipython",
    "version": 2
   },
   "file_extension": ".py",
   "mimetype": "text/x-python",
   "name": "python",
   "nbconvert_exporter": "python",
   "pygments_lexer": "ipython2",
   "version": "2.7.12"
  }
 },
 "nbformat": 4,
 "nbformat_minor": 2
}
